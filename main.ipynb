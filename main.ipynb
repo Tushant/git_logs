{
 "cells": [
  {
   "cell_type": "code",
   "execution_count": 16,
   "id": "impaired-awareness",
   "metadata": {},
   "outputs": [
    {
     "name": "stdout",
     "output_type": "stream",
     "text": [
      "        hash        author                     email        date\n",
      "0  * a888381  joseff-regmi  joseffregmi111@gmail.com  2021-10-24\n",
      "1  * 13f1684  joseff-regmi  joseffregmi111@gmail.com  2021-10-24\n",
      "2  * 012d621  joseff-regmi  joseffregmi111@gmail.com  2021-10-24\n"
     ]
    },
    {
     "name": "stderr",
     "output_type": "stream",
     "text": [
      "d:\\data_science\\git_logs\\git_logs\\lib\\site-packages\\pandas\\util\\_decorators.py:311: ParserWarning: Falling back to the 'python' engine because the 'c' engine does not support regex separators (separators > 1 char and different from '\\s+' are interpreted as regex); you can avoid this warning by specifying engine='python'.\n",
      "  return func(*args, **kwargs)\n"
     ]
    }
   ],
   "source": [
    "from pathlib import Path\n",
    "import pandas as pd\n",
    "\n",
    "data_folder = Path(\"D:\\data_science\\git_logs\")\n",
    "file_to_open = data_folder / \"logs.txt\"\n",
    "\n",
    "cols = ['hash', 'author', 'email', 'date']\n",
    "# saperate values using '--' and giving column names \n",
    "df = pd.read_csv(file_to_open, sep='--', names = cols)\n",
    "\n",
    "\n"
   ]
  },
  {
   "cell_type": "code",
   "execution_count": null,
   "id": "organizational-perception",
   "metadata": {},
   "outputs": [],
   "source": []
  }
 ],
 "metadata": {
  "interpreter": {
   "hash": "d0965fa362409d62e791591405bac378a433a651540213467f58b790630be477"
  },
  "kernelspec": {
   "display_name": "Python 3.8.5 64-bit ('git_logs': venv)",
   "name": "python3"
  },
  "language_info": {
   "codemirror_mode": {
    "name": "ipython",
    "version": 3
   },
   "file_extension": ".py",
   "mimetype": "text/x-python",
   "name": "python",
   "nbconvert_exporter": "python",
   "pygments_lexer": "ipython3",
   "version": "3.8.5"
  }
 },
 "nbformat": 4,
 "nbformat_minor": 5
}
